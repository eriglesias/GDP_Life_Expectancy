{
 "cells": [
  {
   "cell_type": "code",
   "execution_count": 1,
   "metadata": {},
   "outputs": [],
   "source": [
    "import pandas as pd\n",
    "import matplotlib as plt\n"
   ]
  },
  {
   "cell_type": "code",
   "execution_count": 4,
   "metadata": {},
   "outputs": [
    {
     "name": "stdout",
     "output_type": "stream",
     "text": [
      "   Country  Year  Life expectancy at birth (years)           GDP\n",
      "0    Chile  2000                              77.3  7.786093e+10\n",
      "1    Chile  2001                              77.3  7.097992e+10\n",
      "2    Chile  2002                              77.8  6.973681e+10\n",
      "3    Chile  2003                              77.9  7.564346e+10\n",
      "4    Chile  2004                              78.0  9.921039e+10\n",
      "5    Chile  2005                              78.4  1.229650e+11\n",
      "6    Chile  2006                              78.9  1.547880e+11\n",
      "7    Chile  2007                              78.9  1.736060e+11\n",
      "8    Chile  2008                              79.6  1.796380e+11\n",
      "9    Chile  2009                              79.3  1.723890e+11\n",
      "10   Chile  2010                              79.1  2.185380e+11\n",
      "11   Chile  2011                              79.8  2.522520e+11\n",
      "12   Chile  2012                              79.9  2.671220e+11\n",
      "13   Chile  2013                              80.1  2.783840e+11\n",
      "14   Chile  2014                              80.3  2.609900e+11\n"
     ]
    }
   ],
   "source": [
    "data= pd.read_csv('all_data.csv')\n",
    "print(data.head(15))"
   ]
  },
  {
   "cell_type": "markdown",
   "metadata": {},
   "source": [
    "<center> <h2> Goals </h2> </center> \n",
    "\n",
    "<ul> \n",
    "\n",
    " <li>Has life expectancy increased over time in the six nations? </li>\n",
    " <li>Has GDP increased over time in the six nations? </li>\n",
    " <li>Is there a correlation between GDP and life expectancy of a country? </li>\n",
    " <li>What is the average life expectancy in these nations? </li>\n",
    "</ul>"
   ]
  }
 ],
 "metadata": {
  "kernelspec": {
   "display_name": "Python 3",
   "language": "python",
   "name": "python3"
  },
  "language_info": {
   "codemirror_mode": {
    "name": "ipython",
    "version": 3
   },
   "file_extension": ".py",
   "mimetype": "text/x-python",
   "name": "python",
   "nbconvert_exporter": "python",
   "pygments_lexer": "ipython3",
   "version": "3.8.5"
  }
 },
 "nbformat": 4,
 "nbformat_minor": 4
}
